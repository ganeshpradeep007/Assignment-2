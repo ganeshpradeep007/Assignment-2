{
 "cells": [
  {
   "cell_type": "markdown",
   "id": "ea4956c7-ff08-4251-ac52-bb5f6ad126ad",
   "metadata": {},
   "source": [
    "# Discuss string slicing and provide examples ?\n",
    "* string slicing or string extraction is extracting a sub string from the main string\n",
    "* "
   ]
  },
  {
   "cell_type": "code",
   "execution_count": 1,
   "id": "f1204d41-30f2-4169-8867-3a6c32ca2d76",
   "metadata": {},
   "outputs": [],
   "source": [
    "nm=\"pharmacy\""
   ]
  },
  {
   "cell_type": "code",
   "execution_count": 2,
   "id": "17a0e18a-098b-4c05-8e38-e8da96955595",
   "metadata": {},
   "outputs": [
    {
     "data": {
      "text/plain": [
       "'m'"
      ]
     },
     "execution_count": 2,
     "metadata": {},
     "output_type": "execute_result"
    }
   ],
   "source": [
    "nm[4]"
   ]
  },
  {
   "cell_type": "code",
   "execution_count": 3,
   "id": "84e290af-89fe-4fd7-b534-84c7d42d424e",
   "metadata": {},
   "outputs": [
    {
     "data": {
      "text/plain": [
       "'phar'"
      ]
     },
     "execution_count": 3,
     "metadata": {},
     "output_type": "execute_result"
    }
   ],
   "source": [
    "nm[0:4] # slicing is done till 4-1 "
   ]
  },
  {
   "cell_type": "code",
   "execution_count": 5,
   "id": "3ef2fc2a-94ed-4c0d-9ecd-29b808fbf598",
   "metadata": {},
   "outputs": [
    {
     "data": {
      "text/plain": [
       "'y'"
      ]
     },
     "execution_count": 5,
     "metadata": {},
     "output_type": "execute_result"
    }
   ],
   "source": [
    "nm[-1]"
   ]
  },
  {
   "cell_type": "code",
   "execution_count": 7,
   "id": "576a8202-1ef1-4e17-b934-b2d5ca33f569",
   "metadata": {},
   "outputs": [
    {
     "data": {
      "text/plain": [
       "'ac'"
      ]
     },
     "execution_count": 7,
     "metadata": {},
     "output_type": "execute_result"
    }
   ],
   "source": [
    "nm[-3:-1]"
   ]
  },
  {
   "cell_type": "code",
   "execution_count": 8,
   "id": "e19bf230-cc3d-4535-b142-b77535e54496",
   "metadata": {},
   "outputs": [
    {
     "data": {
      "text/plain": [
       "'pharmac'"
      ]
     },
     "execution_count": 8,
     "metadata": {},
     "output_type": "execute_result"
    }
   ],
   "source": [
    "nm[:-1]"
   ]
  },
  {
   "cell_type": "code",
   "execution_count": 9,
   "id": "b7c86c97-2f00-4579-88b6-b1957f7c1dd1",
   "metadata": {},
   "outputs": [
    {
     "data": {
      "text/plain": [
       "'pharmacy'"
      ]
     },
     "execution_count": 9,
     "metadata": {},
     "output_type": "execute_result"
    }
   ],
   "source": [
    "nm[0:]"
   ]
  },
  {
   "cell_type": "code",
   "execution_count": 10,
   "id": "665c7a4b-9382-465e-b202-82df143c24d1",
   "metadata": {},
   "outputs": [
    {
     "data": {
      "text/plain": [
       "'pharmacy'"
      ]
     },
     "execution_count": 10,
     "metadata": {},
     "output_type": "execute_result"
    }
   ],
   "source": [
    "nm[:]"
   ]
  },
  {
   "cell_type": "code",
   "execution_count": 11,
   "id": "6c4315f0-97f5-480b-a4fb-80e52f62bb21",
   "metadata": {},
   "outputs": [
    {
     "data": {
      "text/plain": [
       "'pharmac'"
      ]
     },
     "execution_count": 11,
     "metadata": {},
     "output_type": "execute_result"
    }
   ],
   "source": [
    "nm[0:7]"
   ]
  },
  {
   "cell_type": "code",
   "execution_count": 13,
   "id": "18151f5a-a28f-4e1e-93ef-71b522c297b1",
   "metadata": {},
   "outputs": [
    {
     "data": {
      "text/plain": [
       "'pamc'"
      ]
     },
     "execution_count": 13,
     "metadata": {},
     "output_type": "execute_result"
    }
   ],
   "source": [
    "nm[0:7:2] # syntax {start : end : step]"
   ]
  },
  {
   "cell_type": "markdown",
   "id": "5a5973e8-ab4d-4491-a058-002016d91bcf",
   "metadata": {},
   "source": [
    "#  Explain the key features of lists in Python ?\n",
    "* list is a collection of elements\n",
    "* list is like a bag\n",
    "* list can store any  data type it's heterogeneous\n",
    "* list is ordered and mutable\n",
    "* you can add , remove ,modify elements in list\n",
    "  "
   ]
  },
  {
   "cell_type": "markdown",
   "id": "51a3b691-366f-4924-9fe6-7be303d3bc18",
   "metadata": {},
   "source": [
    "# Describe how to access, modify, and delete elements in a list with examples ?\n"
   ]
  },
  {
   "cell_type": "code",
   "execution_count": 14,
   "id": "e5e0ed50-c05f-4b97-9030-8f6b19b04b3e",
   "metadata": {},
   "outputs": [],
   "source": [
    "# acessing of elements in list \n",
    "lis=[\"ganesh\",24,\"september\",2000]"
   ]
  },
  {
   "cell_type": "code",
   "execution_count": 15,
   "id": "5ae26657-f647-4ade-aedb-385de95b238f",
   "metadata": {},
   "outputs": [
    {
     "data": {
      "text/plain": [
       "['ganesh', 24, 'september', 2000]"
      ]
     },
     "execution_count": 15,
     "metadata": {},
     "output_type": "execute_result"
    }
   ],
   "source": [
    "lis"
   ]
  },
  {
   "cell_type": "code",
   "execution_count": 16,
   "id": "e56a86bd-9884-4efb-a0e7-fd8e640bdfdc",
   "metadata": {},
   "outputs": [
    {
     "data": {
      "text/plain": [
       "'ganesh'"
      ]
     },
     "execution_count": 16,
     "metadata": {},
     "output_type": "execute_result"
    }
   ],
   "source": [
    "# to acess elements \n",
    "lis[0]"
   ]
  },
  {
   "cell_type": "code",
   "execution_count": 17,
   "id": "76fbe847-e7c8-4516-8056-c945277068a1",
   "metadata": {},
   "outputs": [
    {
     "data": {
      "text/plain": [
       "24"
      ]
     },
     "execution_count": 17,
     "metadata": {},
     "output_type": "execute_result"
    }
   ],
   "source": [
    "lis[1]"
   ]
  },
  {
   "cell_type": "code",
   "execution_count": 19,
   "id": "a91db4ae-3ebc-4466-ac2c-a393f0942511",
   "metadata": {},
   "outputs": [],
   "source": [
    "## modify elements in list\n",
    "lis[0]=\"pradeep\""
   ]
  },
  {
   "cell_type": "code",
   "execution_count": 20,
   "id": "b583d46c-5353-4da4-8723-0faf3760fc5d",
   "metadata": {},
   "outputs": [
    {
     "data": {
      "text/plain": [
       "['pradeep', 24, 'september', 2000]"
      ]
     },
     "execution_count": 20,
     "metadata": {},
     "output_type": "execute_result"
    }
   ],
   "source": [
    "lis"
   ]
  },
  {
   "cell_type": "code",
   "execution_count": 21,
   "id": "384db34e-6995-4cf8-99a4-19acd83a1402",
   "metadata": {},
   "outputs": [],
   "source": [
    "lis.append(\"bondi\") # append it used to add the element in list "
   ]
  },
  {
   "cell_type": "code",
   "execution_count": 22,
   "id": "818c6efe-f012-4718-b32a-a9b0acb47581",
   "metadata": {},
   "outputs": [
    {
     "data": {
      "text/plain": [
       "['pradeep', 24, 'september', 2000, 'bondi']"
      ]
     },
     "execution_count": 22,
     "metadata": {},
     "output_type": "execute_result"
    }
   ],
   "source": [
    "lis"
   ]
  },
  {
   "cell_type": "code",
   "execution_count": 24,
   "id": "77faaac1-6826-4144-a23a-e61b36cca646",
   "metadata": {},
   "outputs": [],
   "source": [
    "lis.remove(\"pradeep\") # remove is used to remove/delete an element from list"
   ]
  },
  {
   "cell_type": "code",
   "execution_count": 25,
   "id": "bee6175d-94f6-4aa9-8834-5374ffac9c49",
   "metadata": {},
   "outputs": [
    {
     "data": {
      "text/plain": [
       "[24, 'september', 2000, 'bondi']"
      ]
     },
     "execution_count": 25,
     "metadata": {},
     "output_type": "execute_result"
    }
   ],
   "source": [
    "lis"
   ]
  },
  {
   "cell_type": "markdown",
   "id": "5ac7fd40-d2b9-4e52-876f-cd7599044193",
   "metadata": {},
   "source": [
    "# Compare and contrast tuples and lists with examples ?\n",
    "* list is ordered mutable collection of elements where (means if you create list you can change or do anything)\n",
    "* tuple is ordered immutable collection of elements (means if you create tuple the items/elements cannot be changed)\n",
    "* lists are versatile for storing and managing collections that might change\n",
    "* whereas tuples are useful for representing fixed dataset and configuration\n",
    "* in list you can change modify the elements\n",
    "* in tuples you can acess the elements using indexing and slicing "
   ]
  },
  {
   "cell_type": "code",
   "execution_count": 30,
   "id": "86c6d6fc-4d22-46ba-a626-4d6f0aca69f0",
   "metadata": {},
   "outputs": [],
   "source": [
    "alcohol_list=[\"whiskey\",\"beer\",\"vodka\",\"rum\"] # list "
   ]
  },
  {
   "cell_type": "code",
   "execution_count": 31,
   "id": "e9eb85ff-4fa4-48f1-8d48-5a0bba4314fb",
   "metadata": {},
   "outputs": [
    {
     "data": {
      "text/plain": [
       "list"
      ]
     },
     "execution_count": 31,
     "metadata": {},
     "output_type": "execute_result"
    }
   ],
   "source": [
    "type(alcohol_list)"
   ]
  },
  {
   "cell_type": "code",
   "execution_count": 32,
   "id": "c30e18e4-d6f6-4133-b5d3-d132c1d980f0",
   "metadata": {},
   "outputs": [
    {
     "data": {
      "text/plain": [
       "['whiskey', 'beer', 'vodka', 'rum']"
      ]
     },
     "execution_count": 32,
     "metadata": {},
     "output_type": "execute_result"
    }
   ],
   "source": [
    "alcohol_list"
   ]
  },
  {
   "cell_type": "code",
   "execution_count": 33,
   "id": "78c8fa27-4901-4e5e-ad1e-34773345180c",
   "metadata": {},
   "outputs": [
    {
     "data": {
      "text/plain": [
       "'beer'"
      ]
     },
     "execution_count": 33,
     "metadata": {},
     "output_type": "execute_result"
    }
   ],
   "source": [
    "alcohol_list[1]"
   ]
  },
  {
   "cell_type": "code",
   "execution_count": 34,
   "id": "2fed412d-29c4-48bc-b1be-7ea17d8fa66b",
   "metadata": {},
   "outputs": [],
   "source": [
    "alcohol_list[1]=\"brandy\""
   ]
  },
  {
   "cell_type": "code",
   "execution_count": 35,
   "id": "8acd72f0-65f0-451b-ab7d-2e73e88f7e9b",
   "metadata": {},
   "outputs": [
    {
     "data": {
      "text/plain": [
       "['whiskey', 'brandy', 'vodka', 'rum']"
      ]
     },
     "execution_count": 35,
     "metadata": {},
     "output_type": "execute_result"
    }
   ],
   "source": [
    "alcohol_list #list can be changed"
   ]
  },
  {
   "cell_type": "code",
   "execution_count": 37,
   "id": "0520e7ab-dfd6-4de3-abc5-48f62584cb4e",
   "metadata": {},
   "outputs": [
    {
     "data": {
      "text/plain": [
       "'b'"
      ]
     },
     "execution_count": 37,
     "metadata": {},
     "output_type": "execute_result"
    }
   ],
   "source": [
    "alcohol_list[1][0] "
   ]
  },
  {
   "cell_type": "code",
   "execution_count": 40,
   "id": "4f3b8075-769d-4b36-a152-64fa21684667",
   "metadata": {},
   "outputs": [],
   "source": [
    "cricket=(\"wide\",\"sixer\",\"four\",\"boundary\")"
   ]
  },
  {
   "cell_type": "code",
   "execution_count": 41,
   "id": "6f6bf252-c01f-4250-a539-bf36be4cf641",
   "metadata": {},
   "outputs": [
    {
     "data": {
      "text/plain": [
       "tuple"
      ]
     },
     "execution_count": 41,
     "metadata": {},
     "output_type": "execute_result"
    }
   ],
   "source": [
    "type(cricket)"
   ]
  },
  {
   "cell_type": "code",
   "execution_count": 42,
   "id": "52abc675-5a81-4487-8965-76ea85d90cb4",
   "metadata": {},
   "outputs": [
    {
     "data": {
      "text/plain": [
       "'wide'"
      ]
     },
     "execution_count": 42,
     "metadata": {},
     "output_type": "execute_result"
    }
   ],
   "source": [
    "cricket[0] #in tuple you can acess the items but can't change "
   ]
  },
  {
   "cell_type": "code",
   "execution_count": 43,
   "id": "701c3b6d-687c-4713-9715-d3f20db17cae",
   "metadata": {},
   "outputs": [
    {
     "ename": "TypeError",
     "evalue": "'tuple' object does not support item assignment",
     "output_type": "error",
     "traceback": [
      "\u001b[1;31m---------------------------------------------------------------------------\u001b[0m",
      "\u001b[1;31mTypeError\u001b[0m                                 Traceback (most recent call last)",
      "Cell \u001b[1;32mIn[43], line 1\u001b[0m\n\u001b[1;32m----> 1\u001b[0m \u001b[43mcricket\u001b[49m\u001b[43m[\u001b[49m\u001b[38;5;241;43m0\u001b[39;49m\u001b[43m]\u001b[49m\u001b[38;5;241m=\u001b[39m\u001b[38;5;124m\"\u001b[39m\u001b[38;5;124mball\u001b[39m\u001b[38;5;124m\"\u001b[39m\n",
      "\u001b[1;31mTypeError\u001b[0m: 'tuple' object does not support item assignment"
     ]
    }
   ],
   "source": [
    "cricket[0]=\"ball\" # in tuples you can't change the items inside"
   ]
  },
  {
   "cell_type": "markdown",
   "id": "dfbb2b8e-5162-4e46-8245-28b1cdbc3b8e",
   "metadata": {},
   "source": [
    "# Describe the key features of sets and provide examples of their uses ?\n",
    "* sets are unordered and unique collection of elements (unordered means indexing will not work)\n",
    "* it doesn't allow duplicate elements\n",
    "* you can add or remove elements from set but you can't acess the elements through indexing and slicing becuase it's unordered\n",
    "* in sets you can set operations (union , intersection, difference ,etc..)\n",
    "  "
   ]
  },
  {
   "cell_type": "code",
   "execution_count": 44,
   "id": "608be0e8-f228-4954-97f2-52e0bf720fe5",
   "metadata": {},
   "outputs": [],
   "source": [
    "vegetables={\"tomato\",\"brinjal\",\"carrot\",\"brinjal\",\"carrot\"}"
   ]
  },
  {
   "cell_type": "code",
   "execution_count": 45,
   "id": "c83dac5d-3e2c-4d76-a47c-809bfc7a03dc",
   "metadata": {},
   "outputs": [
    {
     "data": {
      "text/plain": [
       "{'brinjal', 'carrot', 'tomato'}"
      ]
     },
     "execution_count": 45,
     "metadata": {},
     "output_type": "execute_result"
    }
   ],
   "source": [
    "vegetables"
   ]
  },
  {
   "cell_type": "code",
   "execution_count": 46,
   "id": "f6450923-3446-4c18-bff0-3da3e3127df0",
   "metadata": {},
   "outputs": [
    {
     "data": {
      "text/plain": [
       "set"
      ]
     },
     "execution_count": 46,
     "metadata": {},
     "output_type": "execute_result"
    }
   ],
   "source": [
    "type(vegetables)"
   ]
  },
  {
   "cell_type": "code",
   "execution_count": 47,
   "id": "2d1da178-97b5-4023-ac60-1e2c1d484564",
   "metadata": {},
   "outputs": [],
   "source": [
    "vegetables.add(\"potato\") # it can add items in sets "
   ]
  },
  {
   "cell_type": "code",
   "execution_count": 48,
   "id": "65f82cbd-0da5-4194-88a4-d025d1753f89",
   "metadata": {},
   "outputs": [
    {
     "data": {
      "text/plain": [
       "{'brinjal', 'carrot', 'potato', 'tomato'}"
      ]
     },
     "execution_count": 48,
     "metadata": {},
     "output_type": "execute_result"
    }
   ],
   "source": [
    "vegetables"
   ]
  },
  {
   "cell_type": "markdown",
   "id": "d681ffa1-df9b-4a0c-baad-2d15fccf7dd0",
   "metadata": {},
   "source": [
    "vegetables.pop() # it can remove any item,it removes randonly any item from set "
   ]
  },
  {
   "cell_type": "code",
   "execution_count": 50,
   "id": "f8798c37-8a5c-41b8-9c18-9fc8758c6d5a",
   "metadata": {},
   "outputs": [
    {
     "data": {
      "text/plain": [
       "{'brinjal', 'potato', 'tomato'}"
      ]
     },
     "execution_count": 50,
     "metadata": {},
     "output_type": "execute_result"
    }
   ],
   "source": [
    "vegetables"
   ]
  },
  {
   "cell_type": "code",
   "execution_count": 51,
   "id": "8d7b78e1-3159-4665-9981-2ea585f8107d",
   "metadata": {},
   "outputs": [],
   "source": [
    "vegetables.remove(\"tomato\") # it can remove items from set which is specific"
   ]
  },
  {
   "cell_type": "code",
   "execution_count": 53,
   "id": "612a4b92-d2a2-4b50-a861-d3832a4ea766",
   "metadata": {},
   "outputs": [
    {
     "data": {
      "text/plain": [
       "{'brinjal', 'potato'}"
      ]
     },
     "execution_count": 53,
     "metadata": {},
     "output_type": "execute_result"
    }
   ],
   "source": [
    "vegetables"
   ]
  },
  {
   "cell_type": "code",
   "execution_count": 54,
   "id": "a4e2a360-037a-4bce-b2d8-d3c1ff14ee08",
   "metadata": {},
   "outputs": [],
   "source": [
    "# set operations \n",
    "# union : use to combine elements from sets excluding duplicates\n",
    "#intersection: common elements from sets \n",
    "s1={\"apple\",\"banana\",\"mango\"}\n",
    "s2={\"kiwi\",\"banana\",\"orange\"}"
   ]
  },
  {
   "cell_type": "code",
   "execution_count": 55,
   "id": "d4998c43-7008-44af-91a8-14e72bcc2abb",
   "metadata": {},
   "outputs": [
    {
     "data": {
      "text/plain": [
       "{'apple', 'banana', 'mango'}"
      ]
     },
     "execution_count": 55,
     "metadata": {},
     "output_type": "execute_result"
    }
   ],
   "source": [
    "s1"
   ]
  },
  {
   "cell_type": "code",
   "execution_count": 56,
   "id": "b9d8b865-3e87-4796-87e3-2238f9bf5ee8",
   "metadata": {},
   "outputs": [
    {
     "data": {
      "text/plain": [
       "{'banana', 'kiwi', 'orange'}"
      ]
     },
     "execution_count": 56,
     "metadata": {},
     "output_type": "execute_result"
    }
   ],
   "source": [
    "s2"
   ]
  },
  {
   "cell_type": "code",
   "execution_count": 57,
   "id": "d33aca61-d21d-47aa-82e5-ba18052f2c68",
   "metadata": {},
   "outputs": [
    {
     "data": {
      "text/plain": [
       "{'apple', 'banana', 'kiwi', 'mango', 'orange'}"
      ]
     },
     "execution_count": 57,
     "metadata": {},
     "output_type": "execute_result"
    }
   ],
   "source": [
    "# s1 union s2 (|)\n",
    "s1|s2"
   ]
  },
  {
   "cell_type": "code",
   "execution_count": 58,
   "id": "be70bf9d-36f7-4de6-b3c6-970ad82035c2",
   "metadata": {},
   "outputs": [
    {
     "data": {
      "text/plain": [
       "{'banana'}"
      ]
     },
     "execution_count": 58,
     "metadata": {},
     "output_type": "execute_result"
    }
   ],
   "source": [
    "#s1 intersection s2 (&)\n",
    "s1&s2"
   ]
  },
  {
   "cell_type": "markdown",
   "id": "706b415a-2832-43fe-9dc0-fc1651fba045",
   "metadata": {},
   "source": [
    "# Discuss the use cases of tuples and sets in Python programming ?\n",
    "* tuple is ordered immutable collection of elements (means if you create tuple the items/elements cannot be changed)\n",
    "*  tuples are useful for representing fixed dataset and configuration\n",
    "*  sets are unordered and unique collection of elements (unordered means indexing will not work)\n",
    "*  you can add or remove elements from set but you can't acess the elements through indexing and slicing becuase it's unordered"
   ]
  },
  {
   "cell_type": "code",
   "execution_count": 60,
   "id": "4b2d6b57-c180-4060-93b2-951ed630f320",
   "metadata": {},
   "outputs": [],
   "source": [
    "cricket=(\"wide\",\"sixer\",\"four\",\"boundary\")"
   ]
  },
  {
   "cell_type": "code",
   "execution_count": 61,
   "id": "928159a0-2046-4849-ae10-eb7674fe82e9",
   "metadata": {},
   "outputs": [
    {
     "data": {
      "text/plain": [
       "tuple"
      ]
     },
     "execution_count": 61,
     "metadata": {},
     "output_type": "execute_result"
    }
   ],
   "source": [
    "type(cricket)"
   ]
  },
  {
   "cell_type": "code",
   "execution_count": 62,
   "id": "6d11e91e-5226-4468-9171-f13df50ddabc",
   "metadata": {},
   "outputs": [
    {
     "data": {
      "text/plain": [
       "'wide'"
      ]
     },
     "execution_count": 62,
     "metadata": {},
     "output_type": "execute_result"
    }
   ],
   "source": [
    "cricket[0]"
   ]
  },
  {
   "cell_type": "code",
   "execution_count": 63,
   "id": "3c765d8e-0a93-49ff-9d3a-3fffccca3864",
   "metadata": {},
   "outputs": [],
   "source": [
    "# in tuple you cannot change items"
   ]
  },
  {
   "cell_type": "code",
   "execution_count": 67,
   "id": "3fdb169f-745b-44cc-9ecb-6aa97edab3c4",
   "metadata": {},
   "outputs": [],
   "source": [
    "s=set(alcohol_list)"
   ]
  },
  {
   "cell_type": "code",
   "execution_count": 68,
   "id": "5b14d548-6635-4c8f-ad48-3325b63aa0b5",
   "metadata": {},
   "outputs": [
    {
     "data": {
      "text/plain": [
       "{'brandy', 'rum', 'vodka', 'whiskey'}"
      ]
     },
     "execution_count": 68,
     "metadata": {},
     "output_type": "execute_result"
    }
   ],
   "source": [
    "s"
   ]
  },
  {
   "cell_type": "markdown",
   "id": "d994e054-8b65-474b-924b-1fffe477ff4d",
   "metadata": {},
   "source": [
    "# Describe how to add, modify, and delete items in a dictionary with examples ?"
   ]
  },
  {
   "cell_type": "code",
   "execution_count": 70,
   "id": "40c153b6-0c9a-4ed1-961f-1b31d8d6114a",
   "metadata": {},
   "outputs": [],
   "source": [
    " d= {\"name\":\"Ajay\", \"email\":\"aj@gmail.com\", \"contact\": 123}"
   ]
  },
  {
   "cell_type": "code",
   "execution_count": 71,
   "id": "99b90042-2448-4230-9696-a99a88c81788",
   "metadata": {},
   "outputs": [
    {
     "data": {
      "text/plain": [
       "dict"
      ]
     },
     "execution_count": 71,
     "metadata": {},
     "output_type": "execute_result"
    }
   ],
   "source": [
    "type(d)"
   ]
  },
  {
   "cell_type": "code",
   "execution_count": 73,
   "id": "cf34fde2-ae23-4328-8940-f6d2af8345d7",
   "metadata": {},
   "outputs": [
    {
     "data": {
      "text/plain": [
       "'Ajay'"
      ]
     },
     "execution_count": 73,
     "metadata": {},
     "output_type": "execute_result"
    }
   ],
   "source": [
    "d[\"name\"]"
   ]
  },
  {
   "cell_type": "code",
   "execution_count": 74,
   "id": "6f43ad19-cc47-4bb8-900d-759646387824",
   "metadata": {},
   "outputs": [],
   "source": [
    "d[\"name\"]=\"raju\" #modify"
   ]
  },
  {
   "cell_type": "code",
   "execution_count": 75,
   "id": "521a81b2-f26a-4ecb-9298-7232a042918f",
   "metadata": {},
   "outputs": [
    {
     "data": {
      "text/plain": [
       "{'name': 'raju', 'email': 'aj@gmail.com', 'contact': 123}"
      ]
     },
     "execution_count": 75,
     "metadata": {},
     "output_type": "execute_result"
    }
   ],
   "source": [
    "d"
   ]
  },
  {
   "cell_type": "code",
   "execution_count": 76,
   "id": "7926d12c-6f71-4b3b-9457-8715dc4e01e7",
   "metadata": {},
   "outputs": [],
   "source": [
    "del d[\"contact\"] # delete"
   ]
  },
  {
   "cell_type": "code",
   "execution_count": 77,
   "id": "a7134b47-817b-43dd-9544-27970ac04472",
   "metadata": {},
   "outputs": [
    {
     "data": {
      "text/plain": [
       "{'name': 'raju', 'email': 'aj@gmail.com'}"
      ]
     },
     "execution_count": 77,
     "metadata": {},
     "output_type": "execute_result"
    }
   ],
   "source": [
    "d"
   ]
  },
  {
   "cell_type": "code",
   "execution_count": 78,
   "id": "4a076d8e-bb0a-430d-91ea-8459ff7e5003",
   "metadata": {},
   "outputs": [],
   "source": [
    "d[\"contact\"]=9392 #add"
   ]
  },
  {
   "cell_type": "code",
   "execution_count": 79,
   "id": "8ba2b773-a342-4806-ac42-9afd173b4b3f",
   "metadata": {},
   "outputs": [
    {
     "data": {
      "text/plain": [
       "{'name': 'raju', 'email': 'aj@gmail.com', 'contact': 9392}"
      ]
     },
     "execution_count": 79,
     "metadata": {},
     "output_type": "execute_result"
    }
   ],
   "source": [
    "d"
   ]
  },
  {
   "cell_type": "markdown",
   "id": "3c83ac23-1cc3-4f97-8ca1-9d88cef9f8ac",
   "metadata": {},
   "source": [
    "# Discuss the importance of dictionary keys being immutable and provide example?\n",
    "* in dictionary we define keys and values for that key\n",
    "* to acess value we use key\n",
    "* dictionary keya are imutable because for example if we define name as key it's same for eveything values you can modify or do anything"
   ]
  },
  {
   "cell_type": "code",
   "execution_count": 80,
   "id": "71bb8b4f-4108-4b3f-beb9-c6dc5dd50d27",
   "metadata": {},
   "outputs": [],
   "source": [
    "m={\"name\":\"bondita\",\"age\":22,\"sex\":\"female\"}"
   ]
  },
  {
   "cell_type": "code",
   "execution_count": 81,
   "id": "5b1d20ec-fd3f-4bb2-a512-981e340a2257",
   "metadata": {},
   "outputs": [
    {
     "data": {
      "text/plain": [
       "dict"
      ]
     },
     "execution_count": 81,
     "metadata": {},
     "output_type": "execute_result"
    }
   ],
   "source": [
    "type(m)"
   ]
  },
  {
   "cell_type": "code",
   "execution_count": 82,
   "id": "abeb9f2c-cfae-482e-9544-a7c6a803df6b",
   "metadata": {},
   "outputs": [
    {
     "ename": "KeyError",
     "evalue": "'bondita'",
     "output_type": "error",
     "traceback": [
      "\u001b[1;31m---------------------------------------------------------------------------\u001b[0m",
      "\u001b[1;31mKeyError\u001b[0m                                  Traceback (most recent call last)",
      "Cell \u001b[1;32mIn[82], line 1\u001b[0m\n\u001b[1;32m----> 1\u001b[0m \u001b[43mm\u001b[49m\u001b[43m[\u001b[49m\u001b[38;5;124;43m\"\u001b[39;49m\u001b[38;5;124;43mbondita\u001b[39;49m\u001b[38;5;124;43m\"\u001b[39;49m\u001b[43m]\u001b[49m\n",
      "\u001b[1;31mKeyError\u001b[0m: 'bondita'"
     ]
    }
   ],
   "source": [
    "m[\"bondita\"]"
   ]
  },
  {
   "cell_type": "code",
   "execution_count": 83,
   "id": "bec048d0-03ac-47f5-9f4a-dba58ba59c03",
   "metadata": {},
   "outputs": [
    {
     "ename": "NameError",
     "evalue": "name 'Name' is not defined",
     "output_type": "error",
     "traceback": [
      "\u001b[1;31m---------------------------------------------------------------------------\u001b[0m",
      "\u001b[1;31mNameError\u001b[0m                                 Traceback (most recent call last)",
      "Cell \u001b[1;32mIn[83], line 1\u001b[0m\n\u001b[1;32m----> 1\u001b[0m m[\u001b[38;5;124m\"\u001b[39m\u001b[38;5;124mbondita\u001b[39m\u001b[38;5;124m\"\u001b[39m]\u001b[38;5;241m=\u001b[39m\u001b[43mName\u001b[49m\n",
      "\u001b[1;31mNameError\u001b[0m: name 'Name' is not defined"
     ]
    }
   ],
   "source": [
    "m[\"bondita\"]=Name"
   ]
  },
  {
   "cell_type": "code",
   "execution_count": 84,
   "id": "3655f3bc-2754-4347-ba8a-0937131ccae1",
   "metadata": {},
   "outputs": [],
   "source": [
    "#in dictionary keys are immutable only values can be modified"
   ]
  },
  {
   "cell_type": "code",
   "execution_count": null,
   "id": "ef1995e4-d3c5-43f1-b17d-ca7e7782517a",
   "metadata": {},
   "outputs": [],
   "source": []
  }
 ],
 "metadata": {
  "kernelspec": {
   "display_name": "Python 3 (ipykernel)",
   "language": "python",
   "name": "python3"
  },
  "language_info": {
   "codemirror_mode": {
    "name": "ipython",
    "version": 3
   },
   "file_extension": ".py",
   "mimetype": "text/x-python",
   "name": "python",
   "nbconvert_exporter": "python",
   "pygments_lexer": "ipython3",
   "version": "3.13.0"
  }
 },
 "nbformat": 4,
 "nbformat_minor": 5
}
